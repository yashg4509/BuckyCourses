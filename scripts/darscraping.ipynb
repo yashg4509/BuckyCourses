{
  "nbformat": 4,
  "nbformat_minor": 0,
  "metadata": {
    "colab": {
      "provenance": []
    },
    "kernelspec": {
      "name": "python3",
      "display_name": "Python 3"
    },
    "language_info": {
      "name": "python"
    }
  },
  "cells": [
    {
      "cell_type": "code",
      "source": [
        "!wget -O pdffile https://www.dropbox.com/scl/fi/xqj1wp90i9cbpmt8m5sa8/skanda.pdf?rlkey=po6tpmk5akqhetf7xdkvcyb1i&dl=0\n",
        "!pip install pdfplumber"
      ],
      "metadata": {
        "colab": {
          "base_uri": "https://localhost:8080/"
        },
        "id": "PO9J4F8ksnpl",
        "outputId": "c7b8e556-5ae0-4fd3-b491-edd094acb1fd"
      },
      "execution_count": 42,
      "outputs": [
        {
          "output_type": "stream",
          "name": "stdout",
          "text": [
            "--2023-11-04 20:00:34--  https://www.dropbox.com/scl/fi/xqj1wp90i9cbpmt8m5sa8/skanda.pdf?rlkey=po6tpmk5akqhetf7xdkvcyb1i\n",
            "Resolving www.dropbox.com (www.dropbox.com)... 162.125.8.18, 2620:100:6016:18::a27d:112\n",
            "Connecting to www.dropbox.com (www.dropbox.com)|162.125.8.18|:443... connected.\n",
            "HTTP request sent, awaiting response... 302 Found\n",
            "Location: https://uc61c6a45ef73e3af6d2aff415a1.dl.dropboxusercontent.com/cd/0/inline/CG4LMpOyM0hkVetG8RPeUBenvIiBgZ82TkJ7IB-yLAI7uAqkgjOuezJTkwAqTcBlADVhScg1PArRZeQCT6bda2_caJtNyM4hYFaU4xgQmHiWSl8S-mLlW_fVq3_US_UrDAWIloo2EuYc6nzOz-rcB5ej/file# [following]\n",
            "--2023-11-04 20:00:35--  https://uc61c6a45ef73e3af6d2aff415a1.dl.dropboxusercontent.com/cd/0/inline/CG4LMpOyM0hkVetG8RPeUBenvIiBgZ82TkJ7IB-yLAI7uAqkgjOuezJTkwAqTcBlADVhScg1PArRZeQCT6bda2_caJtNyM4hYFaU4xgQmHiWSl8S-mLlW_fVq3_US_UrDAWIloo2EuYc6nzOz-rcB5ej/file\n",
            "Resolving uc61c6a45ef73e3af6d2aff415a1.dl.dropboxusercontent.com (uc61c6a45ef73e3af6d2aff415a1.dl.dropboxusercontent.com)... 162.125.8.15, 2620:100:6016:15::a27d:10f\n",
            "Connecting to uc61c6a45ef73e3af6d2aff415a1.dl.dropboxusercontent.com (uc61c6a45ef73e3af6d2aff415a1.dl.dropboxusercontent.com)|162.125.8.15|:443... connected.\n",
            "HTTP request sent, awaiting response... 302 Found\n",
            "Location: /cd/0/inline2/CG6ElRVvaGuTZp43jIn5nMVEQoMe30N8AHpdVC5OjBtHDfgi3yfI88hN_qjEb0n-QQFljKYdsXO2r82rX4WGMQJNDwy-nrFHXjYi8JOrBBM2ZRqXctccGYRdMAdrFuIpoPT3bh_zS0mUSSkIWKTV6riK_Vn_Y_u11lITY5NYCj7GZTRqFZAOKHJQ37nc8SzyfbkFhcTRBfqpWEZAuiqJYDnIk1IDwAzDMTKVMma2kYny9YD01-As5g3P6R9ZpxVEsb-y_RJIw2YDUhzlrRJARBFHVzaTqr5tICkQzevZuW2FviMkaBUF4gMhCw6_W-fnsbn9XfGmz88mMgF7xCoepTE5faPPuVcd34i5wZJxYHPsFLe9K70LcJoqRajsm7W_yoM/file [following]\n",
            "--2023-11-04 20:00:35--  https://uc61c6a45ef73e3af6d2aff415a1.dl.dropboxusercontent.com/cd/0/inline2/CG6ElRVvaGuTZp43jIn5nMVEQoMe30N8AHpdVC5OjBtHDfgi3yfI88hN_qjEb0n-QQFljKYdsXO2r82rX4WGMQJNDwy-nrFHXjYi8JOrBBM2ZRqXctccGYRdMAdrFuIpoPT3bh_zS0mUSSkIWKTV6riK_Vn_Y_u11lITY5NYCj7GZTRqFZAOKHJQ37nc8SzyfbkFhcTRBfqpWEZAuiqJYDnIk1IDwAzDMTKVMma2kYny9YD01-As5g3P6R9ZpxVEsb-y_RJIw2YDUhzlrRJARBFHVzaTqr5tICkQzevZuW2FviMkaBUF4gMhCw6_W-fnsbn9XfGmz88mMgF7xCoepTE5faPPuVcd34i5wZJxYHPsFLe9K70LcJoqRajsm7W_yoM/file\n",
            "Reusing existing connection to uc61c6a45ef73e3af6d2aff415a1.dl.dropboxusercontent.com:443.\n",
            "HTTP request sent, awaiting response... 200 OK\n",
            "Length: 43393 (42K) [application/pdf]\n",
            "Saving to: ‘pdffile’\n",
            "\n",
            "pdffile             100%[===================>]  42.38K  --.-KB/s    in 0.05s   \n",
            "\n",
            "2023-11-04 20:00:35 (786 KB/s) - ‘pdffile’ saved [43393/43393]\n",
            "\n"
          ]
        }
      ]
    },
    {
      "cell_type": "code",
      "source": [
        "import pdfplumber\n",
        "import re"
      ],
      "metadata": {
        "id": "lQzEaQEC_CnL"
      },
      "execution_count": null,
      "outputs": []
    },
    {
      "cell_type": "code",
      "execution_count": 50,
      "metadata": {
        "colab": {
          "base_uri": "https://localhost:8080/"
        },
        "id": "IHBr9zikrt7z",
        "outputId": "75763a97-5434-4d16-83f1-560f07d395c6"
      },
      "outputs": [
        {
          "output_type": "stream",
          "name": "stdout",
          "text": [
            "EARNED: 45.00 CREDITS\n",
            "IN-PROGRESS 17.00 CREDITS\n",
            "--> NEEDS: 46.00 CREDITS\n",
            "FA22 AFROAMER231 3.00 A Intro to Afro-Am History\n",
            "SP23 ANTHRO 105 3.00 A Principles - Biological Anthr\n",
            "SP23 ANTHRO 212 3.00 A Principles of Archaeology\n",
            "SP23 ASIAN 268 3.00 A Tibetan Cultures & Traditions\n",
            "FA22 COMP SCI200 3.00 T Programming I\n",
            "FA22 COMP SCI252 3.00 A Intro to Computer Engineering\n",
            "FA22 COMP SCI300 3.00 A Programming II\n",
            "FA23 COMP SCI320 4.00 INP Data Sci Programming II\n",
            "SP23 COMP SCI354 3.00 AB Machine Organizatn&Progrmng\n",
            "SP23 COMP SCI400 3.00 A Programming III\n",
            "SU23 ECON 100 3.00 T Econ Approach Current Issues\n",
            "FA22 ENGL 100 3.00 A Intro to College Composition\n",
            "FA23 ENTOM 201 3.00 INP Insects and Human Culture\n",
            "FA23 FRENCH 2110 3.00 INP Exploring Montreal and Quebec\n",
            "FA22 MATH 221 5.00 T Calculus&Analytic Geometry 1\n",
            "FA22 MATH 222 4.00 T Calculus&Analytic Geometry 2\n",
            "FA23 MATH 240 3.00 INP Intro to Discrete Mathematics\n",
            "FA22 MATH 340 3.00 A Elem Matrix & Linear Algebra\n",
            "FA23 STAT 240 4.00 INP Data Science Modeling I\n",
            "SELECT FROM: COURSES with LAS credit\n",
            "hey\n",
            "EARNED: 45.00 CREDITS\n",
            "IN-PROGRESS 17.00 CREDITS\n",
            "--> NEEDS: 46.00 CREDITS\n",
            "FA22 AFROAMER231 3.00 A Intro to Afro-Am History\n",
            "SP23 ANTHRO 105 3.00 A Principles - Biological Anthr\n",
            "SP23 ANTHRO 212 3.00 A Principles of Archaeology\n",
            "SP23 ASIAN 268 3.00 A Tibetan Cultures & Traditions\n",
            "FA22 COMP SCI200 3.00 T Programming I\n",
            "FA22 COMP SCI252 3.00 A Intro to Computer Engineering\n",
            "FA22 COMP SCI300 3.00 A Programming II\n",
            "FA23 COMP SCI320 4.00 INP Data Sci Programming II\n",
            "SP23 COMP SCI354 3.00 AB Machine Organizatn&Progrmng\n",
            "SP23 COMP SCI400 3.00 A Programming III\n",
            "SU23 ECON 100 3.00 T Econ Approach Current Issues\n",
            "FA22 ENGL 100 3.00 A Intro to College Composition\n",
            "FA23 ENTOM 201 3.00 INP Insects and Human Culture\n",
            "FA23 FRENCH 2110 3.00 INP Exploring Montreal and Quebec\n",
            "FA22 MATH 221 5.00 T Calculus&Analytic Geometry 1\n",
            "FA22 MATH 222 4.00 T Calculus&Analytic Geometry 2\n",
            "FA23 MATH 240 3.00 INP Intro to Discrete Mathematics\n",
            "FA22 MATH 340 3.00 A Elem Matrix & Linear Algebra\n",
            "FA23 STAT 240 4.00 INP Data Science Modeling I\n",
            "SELECT FROM: COURSES with LAS credit\n",
            "\n"
          ]
        }
      ],
      "source": [
        "import pdfplumber\n",
        "\n",
        "# Replace 'your_pdf.pdf' with the path to your PDF file\n",
        "pdf_file = \"/content/pdffile\"\n",
        "\n",
        "# Create a list to store the extracted lines\n",
        "extracted_data = []\n",
        "stringa = \"\"\n",
        "ja = False\n",
        "start_extracting = False\n",
        "with pdfplumber.open(pdf_file) as pdf:\n",
        "    # Iterate through the pages of the PDF\n",
        "    for page in pdf.pages:\n",
        "        text = page.extract_text()\n",
        "        lines = text.split('\\n')\n",
        "\n",
        "        # Use a flag to indicate when to start extracting\n",
        "\n",
        "        # Iterate through the lines\n",
        "        for line in lines:\n",
        "            # Check if the line contains the starting point\n",
        "            if start_extracting:\n",
        "                extracted_data.append(line)\n",
        "                stringa = stringa + line + \"\\n\"\n",
        "\n",
        "            # Check for the starting point, in this case, the section you specified\n",
        "            if \"NO LIBERAL ARTS & SCIENCES (LAS) credits in the DEGREE\" in line:\n",
        "                start_extracting = True\n",
        "            elif \"SELECT FROM: COURSES with LAS credit\" in line:\n",
        "                start_extracting = False\n",
        "\n",
        "# Print or process the extracted data\n",
        "for line in extracted_data:\n",
        "    print(line)\n",
        "\n",
        "print(\"hey\")\n",
        "print(stringa)"
      ]
    },
    {
      "cell_type": "code",
      "source": [
        "import re\n",
        "\n",
        "def is_float_string(s):\n",
        "    # Regular expression to match valid floating-point number strings\n",
        "    float_pattern = r'^[-+]?[0-9]*\\.[0-9]+([eE][-+]?[0-9]+)?$'\n",
        "\n",
        "\n",
        "\n",
        "    if re.match(float_pattern, s):\n",
        "        return True\n",
        "    else:\n",
        "        return False\n",
        "\n",
        "print(is_float_string(\"54.23\"))\n"
      ],
      "metadata": {
        "colab": {
          "base_uri": "https://localhost:8080/"
        },
        "id": "fPFLAjj52AbW",
        "outputId": "43bf1e7d-3330-4d3c-e2fd-f6eb489e810d"
      },
      "execution_count": 51,
      "outputs": [
        {
          "output_type": "stream",
          "name": "stdout",
          "text": [
            "True\n"
          ]
        }
      ]
    },
    {
      "cell_type": "code",
      "source": [
        "import csv\n",
        "import re\n",
        "# Split the input text into lines\n",
        "lines = stringa.strip().split('\\n')\n",
        "print(lines)\n",
        "\n",
        "# Define a regular expression pattern to extract the required information\n",
        "pattern = re.compile(r'(SP|FA|SU)(\\d+ [A-Z]+\\s\\d+\\.\\d+\\s[A-Z]+\\s.*)')\n",
        "\n",
        "# Create a CSV output file\n",
        "# Create a CSV output file\n",
        "count = 0\n",
        "with open('output.csv', 'w', newline='') as csvfile:\n",
        "    csv_writer = csv.writer(csvfile)\n",
        "\n",
        "    # Write the header row\n",
        "    csv_writer.writerow(['Term', 'Course', 'Credits', 'Grade', 'Name'])\n",
        "    # Extract and write the information for each line\n",
        "    for line in lines:\n",
        "\n",
        "        # Check if the line starts with 'SP,' 'FA,' or 'SU'\n",
        "        if line.startswith(('SP', 'FA', 'SU')):\n",
        "            parts = line.split()\n",
        "            term = parts[0]\n",
        "            count =1\n",
        "            while True:\n",
        "              if(is_float_string(parts[count])):\n",
        "                break\n",
        "              else:\n",
        "                course = course + \" \" + parts[count]\n",
        "                count = count + 1\n",
        "\n",
        "            credits = parts[count]\n",
        "            grade = parts[count+1]\n",
        "            description = ' '.join(parts[count+2:])\n",
        "            csv_writer.writerow([term, course, credits, grade, description])\n",
        "            course =\"\""
      ],
      "metadata": {
        "colab": {
          "base_uri": "https://localhost:8080/"
        },
        "id": "AMmuEyFovuMv",
        "outputId": "d41d2c24-06fe-446f-8560-a02df2e211a4"
      },
      "execution_count": 52,
      "outputs": [
        {
          "output_type": "stream",
          "name": "stdout",
          "text": [
            "['EARNED: 45.00 CREDITS', 'IN-PROGRESS 17.00 CREDITS', '--> NEEDS: 46.00 CREDITS', 'FA22 AFROAMER231 3.00 A Intro to Afro-Am History', 'SP23 ANTHRO 105 3.00 A Principles - Biological Anthr', 'SP23 ANTHRO 212 3.00 A Principles of Archaeology', 'SP23 ASIAN 268 3.00 A Tibetan Cultures & Traditions', 'FA22 COMP SCI200 3.00 T Programming I', 'FA22 COMP SCI252 3.00 A Intro to Computer Engineering', 'FA22 COMP SCI300 3.00 A Programming II', 'FA23 COMP SCI320 4.00 INP Data Sci Programming II', 'SP23 COMP SCI354 3.00 AB Machine Organizatn&Progrmng', 'SP23 COMP SCI400 3.00 A Programming III', 'SU23 ECON 100 3.00 T Econ Approach Current Issues', 'FA22 ENGL 100 3.00 A Intro to College Composition', 'FA23 ENTOM 201 3.00 INP Insects and Human Culture', 'FA23 FRENCH 2110 3.00 INP Exploring Montreal and Quebec', 'FA22 MATH 221 5.00 T Calculus&Analytic Geometry 1', 'FA22 MATH 222 4.00 T Calculus&Analytic Geometry 2', 'FA23 MATH 240 3.00 INP Intro to Discrete Mathematics', 'FA22 MATH 340 3.00 A Elem Matrix & Linear Algebra', 'FA23 STAT 240 4.00 INP Data Science Modeling I', 'SELECT FROM: COURSES with LAS credit']\n"
          ]
        }
      ]
    },
    {
      "cell_type": "code",
      "source": [],
      "metadata": {
        "id": "4qSlaQEm56Sl"
      },
      "execution_count": null,
      "outputs": []
    },
    {
      "cell_type": "code",
      "source": [],
      "metadata": {
        "id": "i1tOcMPWxJol"
      },
      "execution_count": null,
      "outputs": []
    }
  ]
}